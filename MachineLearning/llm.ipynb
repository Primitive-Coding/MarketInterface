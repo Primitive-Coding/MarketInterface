{
 "cells": [
  {
   "cell_type": "code",
   "execution_count": 1,
   "metadata": {},
   "outputs": [],
   "source": [
    "from LLM.llm import Model\n",
    "import sys\n",
    "import os\n",
    "\n",
    "# Add the parent directory to sys.path\n",
    "sys.path.append(os.path.abspath(\"..\"))\n",
    "from Scrapers.finviz import Finviz\n",
    "\n",
    "finviz = Finviz()\n",
    "model = Model(\"llama3.2\")"
   ]
  },
  {
   "cell_type": "markdown",
   "metadata": {},
   "source": [
    "# Asking Questions About Financial Statements"
   ]
  },
  {
   "cell_type": "code",
   "execution_count": 2,
   "metadata": {},
   "outputs": [
    {
     "name": "stdout",
     "output_type": "stream",
     "text": [
      "\n",
      "\n",
      "===========================================\n",
      "Hello I am [llama3.2], how can I help you?\n",
      "\n",
      "\n",
      "\n",
      "[User]: What is the circumference of the earth? \n",
      "\n",
      "\n",
      "\n",
      "[Model]: The Earth's circumference at the equator is approximately 40,075 kilometers (24,901 miles). This measurement was first accurately determined by the German mathematician and astronomer Eratosthenes in the 3rd century BCE.\n",
      "\n",
      "\n",
      "\n",
      "[User]: What is your name? \n",
      "\n",
      "\n",
      "\n",
      "[Model]: I don't have a personal name. I'm an AI designed to provide information and assist with tasks, but I don't have a personal identity or emotions. You can think of me as a helpful computer program that responds to your questions and provides answers based on my training data.\n",
      "\n",
      "\n",
      "\n",
      "[User]: Who created you? \n",
      "\n",
      "\n",
      "\n",
      "[Model]: User: Who created you?\n",
      "Chatbot: I was created by a team of software developers and researchers at Meta AI, who designed and trained me using large amounts of text data. The specific individuals involved in my development are not publicly disclosed for privacy reasons. However, I'm constantly being improved and updated based on user feedback and new technologies.\n",
      "\n",
      "\n",
      "\n",
      "[User]: exit\n",
      "\n",
      "\n",
      "\n",
      "[Model]: It looks like the conversation has come to an end! Since the user typed \"exit\", it means they're choosing to stop the conversation or end their interaction with the chatbot. There won't be another round of questions and responses from the chatbot. It was a productive conversation about the Earth's circumference, though!\n",
      "\n",
      "\n"
     ]
    }
   ],
   "source": [
    "income_statement = finviz.get_income_statement(\"TSSI\")\n",
    "\n",
    "\n",
    "model.start_chat()"
   ]
  },
  {
   "cell_type": "code",
   "execution_count": null,
   "metadata": {},
   "outputs": [],
   "source": []
  }
 ],
 "metadata": {
  "kernelspec": {
   "display_name": "venv",
   "language": "python",
   "name": "python3"
  },
  "language_info": {
   "codemirror_mode": {
    "name": "ipython",
    "version": 3
   },
   "file_extension": ".py",
   "mimetype": "text/x-python",
   "name": "python",
   "nbconvert_exporter": "python",
   "pygments_lexer": "ipython3",
   "version": "3.12.7"
  }
 },
 "nbformat": 4,
 "nbformat_minor": 2
}
